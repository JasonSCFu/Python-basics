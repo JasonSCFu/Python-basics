{
  "nbformat": 4,
  "nbformat_minor": 0,
  "metadata": {
    "colab": {
      "name": "An illustration for Python functions map,reduce,filter.ipynb",
      "provenance": [],
      "authorship_tag": "ABX9TyPOwIScob5EeIEH9qmCpx3g",
      "include_colab_link": true
    },
    "kernelspec": {
      "name": "python3",
      "display_name": "Python 3"
    },
    "language_info": {
      "name": "python"
    }
  },
  "cells": [
    {
      "cell_type": "markdown",
      "metadata": {
        "id": "view-in-github",
        "colab_type": "text"
      },
      "source": [
        "<a href=\"https://colab.research.google.com/github/JasonSCFu/Python-basics/blob/main/An_illustration_for_Python_functions_map%2Creduce%2Cfilter.ipynb\" target=\"_parent\"><img src=\"https://colab.research.google.com/assets/colab-badge.svg\" alt=\"Open In Colab\"/></a>"
      ]
    },
    {
      "cell_type": "markdown",
      "source": [
        "This notebook is to summarize the usage of map, reduce, filter, lambda ect.\n",
        "Source:https://blog.konghy.cn/2016/02/02/python-usage/"
      ],
      "metadata": {
        "id": "YhXfTY05ScrQ"
      }
    },
    {
      "cell_type": "code",
      "execution_count": 15,
      "metadata": {
        "id": "gYrUsMgUELn9",
        "colab": {
          "base_uri": "https://localhost:8080/"
        },
        "outputId": "4d52edef-7ab3-4d08-d550-b7aaa4043e08"
      },
      "outputs": [
        {
          "output_type": "execute_result",
          "data": {
            "text/plain": [
              "[111, 122, 133]"
            ]
          },
          "metadata": {},
          "execution_count": 15
        }
      ],
      "source": [
        "# map(function, sequence), map function is doing something like[ function(x) for x in sequence ]\n",
        "def add100(x):\n",
        "  return x + 100\n",
        "\n",
        "hh = [11,22,33]\n",
        "\n",
        "list(map(add100, hh))\n"
      ]
    },
    {
      "cell_type": "code",
      "source": [
        "def abc(a, b, c):\n",
        "  return a*10000 + b*100 + c\n",
        "\n",
        "list1 = [11,22,33]\n",
        "list2 = [44,55,66]\n",
        "list3 = [77,88,99]\n",
        "\n",
        "list(map(abc,list1,list2,list3))\n",
        "\n"
      ],
      "metadata": {
        "colab": {
          "base_uri": "https://localhost:8080/"
        },
        "id": "tzmw9XgrK70o",
        "outputId": "2a598bcc-2b2a-43fa-a9ee-5a3994892cda"
      },
      "execution_count": 16,
      "outputs": [
        {
          "output_type": "execute_result",
          "data": {
            "text/plain": [
              "[114477, 225588, 336699]"
            ]
          },
          "metadata": {},
          "execution_count": 16
        }
      ]
    },
    {
      "cell_type": "code",
      "source": [
        "#filter(function, sequence)\n",
        "\n",
        "def foo(x):\n",
        "  return x % 2 != 0\n",
        "\n",
        "def hoo(x):\n",
        "  if x > 5 and x < 10:\n",
        "    return x\n",
        "\n",
        "l = range(1, 10)\n",
        "print(list(filter(foo, l)))\n",
        "\n",
        "print(list(filter(hoo, l)))\n",
        "\n",
        "\n"
      ],
      "metadata": {
        "colab": {
          "base_uri": "https://localhost:8080/"
        },
        "id": "BUrdJPqnL3S_",
        "outputId": "468506ff-e645-4ddb-b9bb-d0e57c9b9cda"
      },
      "execution_count": 22,
      "outputs": [
        {
          "output_type": "stream",
          "name": "stdout",
          "text": [
            "[1, 3, 5, 7, 9]\n",
            "[6, 7, 8, 9]\n"
          ]
        }
      ]
    },
    {
      "cell_type": "code",
      "source": [
        "# lambda\n",
        "\n",
        "foo = lambda x: x**2\n",
        "\n",
        "foo(2)"
      ],
      "metadata": {
        "colab": {
          "base_uri": "https://localhost:8080/"
        },
        "id": "qpGjAsVyR8gz",
        "outputId": "90ae6351-e140-478f-abef-bfd1091530b0"
      },
      "execution_count": 25,
      "outputs": [
        {
          "output_type": "execute_result",
          "data": {
            "text/plain": [
              "4"
            ]
          },
          "metadata": {},
          "execution_count": 25
        }
      ]
    },
    {
      "cell_type": "code",
      "source": [
        "# list comprehension, [x for item in sequence ]\n",
        "\n",
        "[x ** 2 for x in range(1, 10) if x % 2 == 1 ]"
      ],
      "metadata": {
        "colab": {
          "base_uri": "https://localhost:8080/"
        },
        "id": "zXoTM0WNSMT7",
        "outputId": "d0fed3da-efd5-4bba-d089-5b7d9c335d33"
      },
      "execution_count": 26,
      "outputs": [
        {
          "output_type": "execute_result",
          "data": {
            "text/plain": [
              "[1, 9, 25, 49, 81]"
            ]
          },
          "metadata": {},
          "execution_count": 26
        }
      ]
    },
    {
      "cell_type": "code",
      "source": [
        "# generator, similar to list comprehension, but save memory,\n",
        "# refer to https://wiki.python.org/moin/Generators\n",
        "\n",
        "item = ( x ** 2 for x in range(10) if x % 2 )\n",
        "item\n",
        "for i in item:\n",
        "  print(i)\n",
        "\n",
        "# it is equivalent to below\n",
        "\n",
        "list( x ** 2 for x in range(10) if x % 2 )"
      ],
      "metadata": {
        "colab": {
          "base_uri": "https://localhost:8080/"
        },
        "id": "rCh6D8pWSUrt",
        "outputId": "3630e669-b55a-476e-bc46-80a722f6f5a6"
      },
      "execution_count": 30,
      "outputs": [
        {
          "output_type": "stream",
          "name": "stdout",
          "text": [
            "1\n",
            "9\n",
            "25\n",
            "49\n",
            "81\n"
          ]
        },
        {
          "output_type": "execute_result",
          "data": {
            "text/plain": [
              "[1, 9, 25, 49, 81]"
            ]
          },
          "metadata": {},
          "execution_count": 30
        }
      ]
    },
    {
      "cell_type": "code",
      "source": [
        ""
      ],
      "metadata": {
        "id": "4oalFEMAUjV7"
      },
      "execution_count": null,
      "outputs": []
    }
  ]
}