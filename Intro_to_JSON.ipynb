{
  "nbformat": 4,
  "nbformat_minor": 0,
  "metadata": {
    "colab": {
      "name": "Intro to JSON.ipynb",
      "provenance": []
    },
    "kernelspec": {
      "name": "python3",
      "display_name": "Python 3"
    },
    "language_info": {
      "name": "python"
    }
  },
  "cells": [
    {
      "cell_type": "markdown",
      "metadata": {
        "id": "iDF9evNjDLlv"
      },
      "source": [
        "### An Introduction to JSON\n",
        "\n",
        "Data stored in a CSV file must be flat; that is, it must fit into rows and columns. Most people refer to this type of data as structured or tabular. This data is tabular because the number of columns is the same for every row.  Individual rows may be missing a value for a column; however, these rows still have the same columns.  \n",
        "\n",
        "This sort of data is convenient for machine learning because most models, such as neural networks, also expect incoming data to be of fixed dimensions. Real-world information is not always so tabular.  Consider if the rows represent customers.  These people might have multiple phone numbers and addresses.  How would you describe such data using a fixed number of columns?  It would be useful to have a list of these courses in each row that can be of a variable length for each row, or student.\n",
        "\n",
        "JavaScript Object Notation (JSON) is a standard file format that stores data in a hierarchical format similar to eXtensible Markup Language (XML).  JSON is nothing more than a hierarchy of lists and dictionaries.  Programmers refer to this sort of data as semi-structured data or hierarchical data.  The following is a sample JSON file.\n",
        "\n",
        "```\n",
        "{\n",
        "  \"firstName\": \"John\",\n",
        "  \"lastName\": \"Smith\",\n",
        "  \"isAlive\": true,\n",
        "  \"age\": 27,\n",
        "  \"address\": {\n",
        "    \"streetAddress\": \"21 2nd Street\",\n",
        "    \"city\": \"New York\",\n",
        "    \"state\": \"NY\",\n",
        "    \"postalCode\": \"10021-3100\"\n",
        "  },\n",
        "  \"phoneNumbers\": [\n",
        "    {\n",
        "      \"type\": \"home\",\n",
        "      \"number\": \"212 555-1234\"\n",
        "    },\n",
        "    {\n",
        "      \"type\": \"office\",\n",
        "      \"number\": \"646 555-4567\"\n",
        "    },\n",
        "    {\n",
        "      \"type\": \"mobile\",\n",
        "      \"number\": \"123 456-7890\"\n",
        "    }\n",
        "  ],\n",
        "  \"children\": [],\n",
        "  \"spouse\": null\n",
        "}\n",
        "```\n",
        "\n",
        "The above file may look somewhat like Python code.  You can see curly braces that define dictionaries and square brackets that define lists.  JSON does require there to be a single root element.  A list or dictionary can fulfill this role.  JSON requires double-quotes to enclose strings and names.  Single quotes are not allowed in JSON.\n",
        "\n",
        "JSON files are always legal JavaScript syntax.  JSON is also generally valid as Python code, as demonstrated by the following Python program."
      ]
    },
    {
      "cell_type": "code",
      "execution_count": 1,
      "metadata": {
        "id": "YAMS4vDEDLlw"
      },
      "outputs": [],
      "source": [
        "jsonHardCoded = {\n",
        "  \"firstName\": \"John\",\n",
        "  \"lastName\": \"Smith\",\n",
        "  \"isAlive\": True,\n",
        "  \"age\": 27,\n",
        "  \"address\": {\n",
        "    \"streetAddress\": \"21 2nd Street\",\n",
        "    \"city\": \"New York\",\n",
        "    \"state\": \"NY\",\n",
        "    \"postalCode\": \"10021-3100\"\n",
        "  },\n",
        "  \"phoneNumbers\": [\n",
        "    {\n",
        "      \"type\": \"home\",\n",
        "      \"number\": \"212 555-1234\"\n",
        "    },\n",
        "    {\n",
        "      \"type\": \"office\",\n",
        "      \"number\": \"646 555-4567\"\n",
        "    },\n",
        "    {\n",
        "      \"type\": \"mobile\",\n",
        "      \"number\": \"123 456-7890\"\n",
        "    }\n",
        "  ],\n",
        "  \"children\": [],\n",
        "  \"spouse\": None\n",
        "}"
      ]
    },
    {
      "cell_type": "markdown",
      "metadata": {
        "id": "iOEiySsbDLlw"
      },
      "source": [
        "Generally, it is better to read JSON from files, strings, or the Internet than hard coding, as demonstrated here.  However, for internal data structures, sometimes such hard-coding can be useful.\n",
        "\n",
        "Python contains support for JSON.  When a Python program loads a JSON  the root list or dictionary is returned, as demonstrated by the following code."
      ]
    },
    {
      "cell_type": "code",
      "execution_count": 2,
      "metadata": {
        "id": "tLTSLP3vDLlw",
        "outputId": "b8be32ef-3326-4952-d75c-b61db47ce81c",
        "colab": {
          "base_uri": "https://localhost:8080/"
        }
      },
      "outputs": [
        {
          "output_type": "stream",
          "name": "stdout",
          "text": [
            "First name: Jeff\n",
            "Last name: Heaton\n"
          ]
        }
      ],
      "source": [
        "import json\n",
        "\n",
        "json_string = '{\"first\":\"Jeff\",\"last\":\"Heaton\"}'\n",
        "obj = json.loads(json_string)\n",
        "print(f\"First name: {obj['first']}\")\n",
        "print(f\"Last name: {obj['last']}\")"
      ]
    },
    {
      "cell_type": "markdown",
      "metadata": {
        "id": "iRW_rYmNDLlw"
      },
      "source": [
        "Python programs can also load JSON from a file or URL."
      ]
    },
    {
      "cell_type": "code",
      "execution_count": 3,
      "metadata": {
        "id": "xBfTBql_DLlw",
        "outputId": "8cb6720b-ce34-469b-beb5-23bf2283aea2",
        "colab": {
          "base_uri": "https://localhost:8080/"
        }
      },
      "outputs": [
        {
          "output_type": "stream",
          "name": "stdout",
          "text": [
            "{'firstName': 'John', 'lastName': 'Smith', 'isAlive': True, 'age': 27, 'address': {'streetAddress': '21 2nd Street', 'city': 'New York', 'state': 'NY', 'postalCode': '10021-3100'}, 'phoneNumbers': [{'type': 'home', 'number': '212 555-1234'}, {'type': 'office', 'number': '646 555-4567'}, {'type': 'mobile', 'number': '123 456-7890'}], 'children': [], 'spouse': None}\n"
          ]
        }
      ],
      "source": [
        "import requests\n",
        "\n",
        "r = requests.get(\"https://raw.githubusercontent.com/jeffheaton/\"\n",
        "                 +\"t81_558_deep_learning/master/person.json\")\n",
        "print(r.json())"
      ]
    },
    {
      "cell_type": "code",
      "source": [
        "r.json()['firstName']"
      ],
      "metadata": {
        "colab": {
          "base_uri": "https://localhost:8080/",
          "height": 35
        },
        "id": "wLiiWpHOE1UY",
        "outputId": "312816c1-88ef-4c67-b7ca-48e6e5e58099"
      },
      "execution_count": 11,
      "outputs": [
        {
          "output_type": "execute_result",
          "data": {
            "text/plain": [
              "'John'"
            ],
            "application/vnd.google.colaboratory.intrinsic+json": {
              "type": "string"
            }
          },
          "metadata": {},
          "execution_count": 11
        }
      ]
    },
    {
      "cell_type": "markdown",
      "metadata": {
        "id": "6OeX0tz5DLlw"
      },
      "source": [
        "Python programs can easily generate JSON strings from Python objects of dictionaries and lists."
      ]
    },
    {
      "cell_type": "code",
      "execution_count": 14,
      "metadata": {
        "id": "1A8KYXZzDLlw",
        "outputId": "650e01f2-5c0a-4668-f243-562a60947fd4",
        "colab": {
          "base_uri": "https://localhost:8080/"
        }
      },
      "outputs": [
        {
          "output_type": "stream",
          "name": "stdout",
          "text": [
            "{\"first\": \"Jeff\", \"last\": \"Heaton\"}\n"
          ]
        }
      ],
      "source": [
        "python_obj = {\"first\":\"Jeff\",\"last\":\"Heaton\"}\n",
        "python_obj\n",
        "type(python_obj)\n",
        "print(json.dumps(python_obj))"
      ]
    },
    {
      "cell_type": "code",
      "source": [
        "jas = json.dumps(python_obj)\n",
        "type(jas)"
      ],
      "metadata": {
        "colab": {
          "base_uri": "https://localhost:8080/"
        },
        "id": "gQwfW7crHk_W",
        "outputId": "4d0e6a8a-85e7-4007-9b6f-ee242709af6f"
      },
      "execution_count": 18,
      "outputs": [
        {
          "output_type": "execute_result",
          "data": {
            "text/plain": [
              "str"
            ]
          },
          "metadata": {},
          "execution_count": 18
        }
      ]
    },
    {
      "cell_type": "markdown",
      "metadata": {
        "id": "ziH2ZO7RDLlw"
      },
      "source": [
        "A data scientist will generally encounter JSON when they access web services to get their data.  A data scientist might use the techniques presented in this section to convert the semi-structured JSON data into tabular data for the program to use with a model such as a neural network."
      ]
    }
  ]
}