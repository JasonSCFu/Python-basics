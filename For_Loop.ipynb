{
  "nbformat": 4,
  "nbformat_minor": 0,
  "metadata": {
    "colab": {
      "name": "For Loop.ipynb",
      "provenance": [],
      "collapsed_sections": []
    },
    "kernelspec": {
      "name": "python3",
      "display_name": "Python 3"
    },
    "language_info": {
      "name": "python"
    }
  },
  "cells": [
    {
      "cell_type": "markdown",
      "source": [
        "# range of length"
      ],
      "metadata": {
        "id": "4yNaJ8WpOeMc"
      }
    },
    {
      "cell_type": "code",
      "source": [
        "colors = [\"red\", \"green\", \"blue\", \"purple\"]\n",
        "for i in range(len(colors)):\n",
        "    print(colors[i])"
      ],
      "metadata": {
        "colab": {
          "base_uri": "https://localhost:8080/"
        },
        "id": "6zlFb9wbNuo5",
        "outputId": "47aafec3-c797-43eb-d670-f0b45610938e"
      },
      "execution_count": null,
      "outputs": [
        {
          "output_type": "stream",
          "name": "stdout",
          "text": [
            "red\n",
            "green\n",
            "blue\n",
            "purple\n"
          ]
        }
      ]
    },
    {
      "cell_type": "markdown",
      "source": [
        "# for-in"
      ],
      "metadata": {
        "id": "d1uNUqHdOnLn"
      }
    },
    {
      "cell_type": "code",
      "source": [
        "colors = [\"red\", \"green\", \"blue\", \"purple\"]\n",
        "for color in colors:\n",
        "    print(color)"
      ],
      "metadata": {
        "colab": {
          "base_uri": "https://localhost:8080/"
        },
        "id": "Z2wuTrJDNwhM",
        "outputId": "2acc7f3a-a3f6-4180-bf6d-a8f4d671a7c7"
      },
      "execution_count": null,
      "outputs": [
        {
          "output_type": "stream",
          "name": "stdout",
          "text": [
            "red\n",
            "green\n",
            "blue\n",
            "purple\n"
          ]
        }
      ]
    },
    {
      "cell_type": "markdown",
      "source": [
        "# use index in the for loop"
      ],
      "metadata": {
        "id": "dYPTyRQDOx-O"
      }
    },
    {
      "cell_type": "code",
      "source": [
        "presidents = [\"Washington\", \"Adams\", \"Jefferson\", \"Madison\", \"Monroe\", \"Adams\", \"Jackson\"]\n",
        "for i in range(len(presidents)):\n",
        "    print(\"President {}: {}\".format(i + 1, presidents[i]))"
      ],
      "metadata": {
        "colab": {
          "base_uri": "https://localhost:8080/"
        },
        "id": "enLO04q3N_GM",
        "outputId": "4a1b2f05-2160-48ea-88e5-bd419474e11c"
      },
      "execution_count": null,
      "outputs": [
        {
          "output_type": "stream",
          "name": "stdout",
          "text": [
            "President 1: Washington\n",
            "President 2: Adams\n",
            "President 3: Jefferson\n",
            "President 4: Madison\n",
            "President 5: Monroe\n",
            "President 6: Adams\n",
            "President 7: Jackson\n"
          ]
        }
      ]
    },
    {
      "cell_type": "markdown",
      "source": [
        "# enumerate: loop over a list and retrieve both the index and the value of each item in the list:"
      ],
      "metadata": {
        "id": "w-LIFnFGO0jm"
      }
    },
    {
      "cell_type": "code",
      "source": [
        "presidents = [\"Washington\", \"Adams\", \"Jefferson\", \"Madison\", \"Monroe\", \"Adams\", \"Jackson\"]\n",
        "for num, name in enumerate(presidents, start=1):\n",
        "    print(\"President {}: {}\".format(num, name))"
      ],
      "metadata": {
        "colab": {
          "base_uri": "https://localhost:8080/"
        },
        "id": "EDJqP-4aOYLa",
        "outputId": "7c7db6c5-a16f-4aca-aeef-e350b50fe036"
      },
      "execution_count": null,
      "outputs": [
        {
          "output_type": "stream",
          "name": "stdout",
          "text": [
            "President 1: Washington\n",
            "President 2: Adams\n",
            "President 3: Jefferson\n",
            "President 4: Madison\n",
            "President 5: Monroe\n",
            "President 6: Adams\n",
            "President 7: Jackson\n"
          ]
        }
      ]
    },
    {
      "cell_type": "markdown",
      "source": [
        "# enumerate and index"
      ],
      "metadata": {
        "id": "-2osXJX9PgOh"
      }
    },
    {
      "cell_type": "code",
      "source": [
        "\n",
        "colors = [\"red\", \"green\", \"blue\", \"purple\"]\n",
        "ratios = [0.2, 0.3, 0.1, 0.4]\n",
        "for i, color in enumerate(colors):\n",
        "    ratio = ratios[i]\n",
        "    print(\"{}% {}\".format(ratio * 100, color))\n"
      ],
      "metadata": {
        "colab": {
          "base_uri": "https://localhost:8080/"
        },
        "id": "sRe4LdNVPkau",
        "outputId": "acf55009-9a59-4213-d217-14ed55b1b757"
      },
      "execution_count": null,
      "outputs": [
        {
          "output_type": "stream",
          "name": "stdout",
          "text": [
            "20.0% red\n",
            "30.0% green\n",
            "10.0% blue\n",
            "40.0% purple\n"
          ]
        }
      ]
    },
    {
      "cell_type": "code",
      "source": [
        "a = [2, 10, 3, 11, 10, 3, 2, 1]\n",
        "for i, x in enumerate(a):\n",
        "    if x>5:\n",
        "        a[i] = 5\n",
        "print(a)"
      ],
      "metadata": {
        "colab": {
          "base_uri": "https://localhost:8080/"
        },
        "id": "DiQFq4BwFH9w",
        "outputId": "c1e2acd7-1fd2-45ac-f98c-abcd9b13e7e6"
      },
      "execution_count": 1,
      "outputs": [
        {
          "output_type": "stream",
          "name": "stdout",
          "text": [
            "[2, 5, 3, 5, 5, 3, 2, 1]\n"
          ]
        }
      ]
    },
    {
      "cell_type": "markdown",
      "source": [
        "# zip"
      ],
      "metadata": {
        "id": "Nua1MJ1cE-AM"
      }
    },
    {
      "cell_type": "code",
      "source": [
        "colors = [\"red\", \"green\", \"blue\", \"purple\"]\n",
        "ratios = [0.2, 0.3, 0.1, 0.4]\n",
        "for color, ratio in zip(colors, ratios):\n",
        "    print(\"{}% {}\".format(ratio * 100, color))"
      ],
      "metadata": {
        "colab": {
          "base_uri": "https://localhost:8080/"
        },
        "id": "h-zMfCT2Pn2P",
        "outputId": "e0db5374-b529-4888-a79b-3132e0b752e1"
      },
      "execution_count": null,
      "outputs": [
        {
          "output_type": "stream",
          "name": "stdout",
          "text": [
            "20.0% red\n",
            "30.0% green\n",
            "10.0% blue\n",
            "40.0% purple\n"
          ]
        }
      ]
    },
    {
      "cell_type": "code",
      "execution_count": null,
      "metadata": {
        "colab": {
          "base_uri": "https://localhost:8080/"
        },
        "id": "I8_zmBEkKvym",
        "outputId": "6d390920-6f52-4b84-c774-fcdb2f561e2a"
      },
      "outputs": [
        {
          "output_type": "stream",
          "name": "stdout",
          "text": [
            "1 - 5\n",
            "2 - 4\n",
            "3 - 3\n",
            "4 - 2\n",
            "5 - 1\n"
          ]
        }
      ],
      "source": [
        "a = [1,2,3,4,5]\n",
        "b = [5,4,3,2,1]\n",
        "\n",
        "for x,y in zip(a,b):\n",
        "    print(f'{x} - {y}')"
      ]
    },
    {
      "cell_type": "code",
      "source": [
        "a = [1,2,3,4,5]\n",
        "b = [5,4,3]\n",
        "\n",
        "print(list(zip(a,b)))"
      ],
      "metadata": {
        "colab": {
          "base_uri": "https://localhost:8080/"
        },
        "id": "DLtEpv7FK9aC",
        "outputId": "a38658da-1308-4759-b545-a21b00ac1070"
      },
      "execution_count": null,
      "outputs": [
        {
          "output_type": "stream",
          "name": "stdout",
          "text": [
            "[(1, 5), (2, 4), (3, 3)]\n"
          ]
        }
      ]
    },
    {
      "cell_type": "markdown",
      "source": [
        "# list comprehension, for loop in a list\n"
      ],
      "metadata": {
        "id": "8r5MibH6FXBX"
      }
    },
    {
      "cell_type": "code",
      "source": [
        "lst = [x*10 for x in range(10)]\n",
        "print(lst)"
      ],
      "metadata": {
        "colab": {
          "base_uri": "https://localhost:8080/"
        },
        "id": "TerxsmFZLGgq",
        "outputId": "a189638e-99ad-4525-aa64-b6889005bd29"
      },
      "execution_count": null,
      "outputs": [
        {
          "output_type": "stream",
          "name": "stdout",
          "text": [
            "[0, 10, 20, 30, 40, 50, 60, 70, 80, 90]\n"
          ]
        }
      ]
    },
    {
      "cell_type": "markdown",
      "source": [
        "# use for loops with list of list"
      ],
      "metadata": {
        "id": "JX02Wi_9Fo8M"
      }
    },
    {
      "cell_type": "code",
      "source": [
        "ev_data = [['vehicle', 'range', 'price'], ['Tesla Model 3 LR', '310', '49900'], ['Hyundai Ioniq EV', '124', '30315'], ['Chevy Bolt', '238', '36620']]\n",
        "\n",
        "print(ev_data)"
      ],
      "metadata": {
        "colab": {
          "base_uri": "https://localhost:8080/"
        },
        "id": "aRPI7-peGQ1C",
        "outputId": "093062b0-516c-473d-e89e-c08b6f1221ab"
      },
      "execution_count": 4,
      "outputs": [
        {
          "output_type": "stream",
          "name": "stdout",
          "text": [
            "[['vehicle', 'range', 'price'], ['Tesla Model 3 LR', '310', '49900'], ['Hyundai Ioniq EV', '124', '30315'], ['Chevy Bolt', '238', '36620']]\n"
          ]
        }
      ]
    },
    {
      "cell_type": "code",
      "source": [
        "for row in ev_data[1:]:         # loop through each row in ev_data starting with row 2 (index 1)\n",
        "    ev_range = row[1]           # each car's range is found in column 2 (index 1)\n",
        "    ev_range = int(ev_range)    # convert each range number from a string to an integer\n",
        "    row[1] = ev_range           # assign range, which is now an integer, back to index 1 in each row\n",
        "\n",
        "print(ev_data)"
      ],
      "metadata": {
        "colab": {
          "base_uri": "https://localhost:8080/"
        },
        "id": "ae9Jv1nXF00x",
        "outputId": "1dae87ea-7151-484b-ae78-d59486410702"
      },
      "execution_count": 5,
      "outputs": [
        {
          "output_type": "stream",
          "name": "stdout",
          "text": [
            "[['vehicle', 'range', 'price'], ['Tesla Model 3 LR', 310, '49900'], ['Hyundai Ioniq EV', 124, '30315'], ['Chevy Bolt', 238, '36620']]\n"
          ]
        }
      ]
    },
    {
      "cell_type": "code",
      "source": [
        "total_range = 0                     # create a variable to store the total range number\n",
        "\n",
        "for row in ev_data[1:]:             # loop through each row in ev_data starting with row 2 (index 1)\n",
        "    ev_range = row[1]               # each car's range is found in column 2 (index 1)\n",
        "    total_range += ev_range         # add this number to the number stored in total_range\n",
        "\n",
        "number_of_cars = len(ev_data[1:])   # calculate the length of our list, minus the header row\n",
        "\n",
        "print(total_range / number_of_cars) # print the average range"
      ],
      "metadata": {
        "colab": {
          "base_uri": "https://localhost:8080/"
        },
        "id": "8r4mhaP-cnP4",
        "outputId": "e7f636c5-37c2-49f6-e7f6-4ff975a66376"
      },
      "execution_count": 6,
      "outputs": [
        {
          "output_type": "stream",
          "name": "stdout",
          "text": [
            "224.0\n"
          ]
        }
      ]
    },
    {
      "cell_type": "code",
      "source": [
        "total_price = 0                     # create a variable to store the total range number\n",
        "\n",
        "for row in ev_data[1:]:             # loop through each row in ev_data starting with row 2 (index 1)\n",
        "    price = row[2]                  # each car's price is found in column 3 (index 2)\n",
        "    price = int(price)              # convert each price number from a string to an integer\n",
        "    row[2] = price                  # assign price, which is now an integer, back to index 2 in each row\n",
        "    total_price += price            # add each car's price to total_price\n",
        "\n",
        "number_of_cars = len(ev_data[1:])   # calculate the length of our list, minus the header row\n",
        "\n",
        "print(total_price / number_of_cars) # print the average price"
      ],
      "metadata": {
        "colab": {
          "base_uri": "https://localhost:8080/"
        },
        "id": "Fo_DbDV2c--y",
        "outputId": "c9ed0db9-6e74-4c99-839b-d77ebc1068d6"
      },
      "execution_count": 7,
      "outputs": [
        {
          "output_type": "stream",
          "name": "stdout",
          "text": [
            "38945.0\n"
          ]
        }
      ]
    },
    {
      "cell_type": "code",
      "source": [
        "long_range_car_list = []       # creating a new list to store our long range car data\n",
        "\n",
        "for row in ev_data[1:]:        # iterate through ev_data, skipping the header row\n",
        "    ev_range = row[1]          # assign the range number, which is at index 1 in the row, to the range variable\n",
        "    if ev_range > 200:         # append the whole row to long-range list if range is higher than 200\n",
        "        long_range_car_list.append(row)\n",
        "\n",
        "print(long_range_car_list)"
      ],
      "metadata": {
        "colab": {
          "base_uri": "https://localhost:8080/"
        },
        "id": "59F8mlGcdEvf",
        "outputId": "1556ee76-eeb5-4e0d-f4ce-e350b8612955"
      },
      "execution_count": 8,
      "outputs": [
        {
          "output_type": "stream",
          "name": "stdout",
          "text": [
            "[['Tesla Model 3 LR', 310, 49900], ['Chevy Bolt', 238, 36620]]\n"
          ]
        }
      ]
    },
    {
      "cell_type": "markdown",
      "source": [
        "# break, continue"
      ],
      "metadata": {
        "id": "Or2gQssAdLb3"
      }
    },
    {
      "cell_type": "code",
      "source": [
        "our_list = ['Lily', 'Brad', 'Fatima', 'Zining']\n",
        "for name in our_list:\n",
        "    break\n",
        "    print(name)"
      ],
      "metadata": {
        "id": "8ST0Yaotd17A"
      },
      "execution_count": 9,
      "outputs": []
    },
    {
      "cell_type": "code",
      "source": [
        "for name in our_list:\n",
        "    if name == 'Zining':\n",
        "        break\n",
        "    print(name)"
      ],
      "metadata": {
        "colab": {
          "base_uri": "https://localhost:8080/"
        },
        "id": "2s9iSDZBd9nL",
        "outputId": "3273b7a4-0727-43ff-bf0e-115d323dd241"
      },
      "execution_count": 10,
      "outputs": [
        {
          "output_type": "stream",
          "name": "stdout",
          "text": [
            "Lily\n",
            "Brad\n",
            "Fatima\n"
          ]
        }
      ]
    },
    {
      "cell_type": "code",
      "source": [
        "long_range_car_list = []    # creating our empty long-range car list again\n",
        "\n",
        "for row in ev_data[1:]:     # iterate through ev_data as before looking for cars with a range > 200\n",
        "    ev_range = row[1]\n",
        "    if ev_range > 200:\n",
        "        long_range_car_list.append(row)\n",
        "    if 'Tesla' in row[0]:   # but if 'Tesla' appears in the vehicle column, end the loop\n",
        "            break\n",
        "\n",
        "print(long_range_car_list)"
      ],
      "metadata": {
        "colab": {
          "base_uri": "https://localhost:8080/"
        },
        "id": "gSAClTzIeDvA",
        "outputId": "f72c2117-e12a-4571-84e7-6104add58ea2"
      },
      "execution_count": 11,
      "outputs": [
        {
          "output_type": "stream",
          "name": "stdout",
          "text": [
            "[['Tesla Model 3 LR', 310, 49900]]\n"
          ]
        }
      ]
    },
    {
      "cell_type": "code",
      "source": [
        "for name in our_list:\n",
        "    if name == 'Brad':\n",
        "        continue\n",
        "    print(name)"
      ],
      "metadata": {
        "colab": {
          "base_uri": "https://localhost:8080/"
        },
        "id": "Vm-Y16M4evyS",
        "outputId": "75afb20f-b639-4927-bf8d-c3388c1a7fa7"
      },
      "execution_count": 12,
      "outputs": [
        {
          "output_type": "stream",
          "name": "stdout",
          "text": [
            "Lily\n",
            "Fatima\n",
            "Zining\n"
          ]
        }
      ]
    },
    {
      "cell_type": "code",
      "source": [
        "short_range_car_list = []               # creating our empty short-range car list\n",
        "\n",
        "for row in ev_data[1:]:                 # iterate through ev_data as before\n",
        "    ev_range = row[1]\n",
        "    if ev_range > 200:                  #  if the car has a range of > 200\n",
        "        continue                        # end the loop here; do not execute the code below, continue to the next row\n",
        "    short_range_car_list.append(row)    # append the row to our short-range car list\n",
        "\n",
        "\n",
        "print(short_range_car_list)"
      ],
      "metadata": {
        "colab": {
          "base_uri": "https://localhost:8080/"
        },
        "id": "FI3kZ7I_e856",
        "outputId": "ceb76017-f526-4ded-b562-35b34a103877"
      },
      "execution_count": 13,
      "outputs": [
        {
          "output_type": "stream",
          "name": "stdout",
          "text": [
            "[['Hyundai Ioniq EV', 124, 30315]]\n"
          ]
        }
      ]
    },
    {
      "cell_type": "markdown",
      "source": [
        "# iter, next"
      ],
      "metadata": {
        "id": "gc7CIrv1fjbZ"
      }
    },
    {
      "cell_type": "code",
      "source": [
        "a = ['foo', 'bar', 'baz']\n",
        "itr = iter(a)\n",
        "print(itr,next(itr),next(itr),next(itr))"
      ],
      "metadata": {
        "colab": {
          "base_uri": "https://localhost:8080/"
        },
        "id": "ydCIU7-XfnW4",
        "outputId": "e95d2d35-2bde-4f85-8d2b-dad2d115e882"
      },
      "execution_count": 17,
      "outputs": [
        {
          "output_type": "stream",
          "name": "stdout",
          "text": [
            "<list_iterator object at 0x7fdac04e6490> foo bar baz\n"
          ]
        }
      ]
    },
    {
      "cell_type": "markdown",
      "source": [
        "# Iterating Through a Dictionary"
      ],
      "metadata": {
        "id": "gNfLkZ04hEaV"
      }
    },
    {
      "cell_type": "code",
      "source": [
        "d = {'foo': 1, 'bar': 2, 'baz': 3}\n",
        "for k in d:\n",
        "  print(k)"
      ],
      "metadata": {
        "colab": {
          "base_uri": "https://localhost:8080/"
        },
        "id": "PwQq5nqkgl7J",
        "outputId": "a7737c02-4473-49bb-84c7-271ff3d6508f"
      },
      "execution_count": 20,
      "outputs": [
        {
          "output_type": "stream",
          "name": "stdout",
          "text": [
            "foo\n",
            "bar\n",
            "baz\n"
          ]
        }
      ]
    },
    {
      "cell_type": "code",
      "source": [
        "for k in d:\n",
        "  print(d[k])"
      ],
      "metadata": {
        "colab": {
          "base_uri": "https://localhost:8080/"
        },
        "id": "DtPWl9tIhW88",
        "outputId": "59a9634e-cd86-4a41-db49-8fb5e2581979"
      },
      "execution_count": 21,
      "outputs": [
        {
          "output_type": "stream",
          "name": "stdout",
          "text": [
            "1\n",
            "2\n",
            "3\n"
          ]
        }
      ]
    },
    {
      "cell_type": "code",
      "source": [
        "for v in d.values():\n",
        "  print(v)"
      ],
      "metadata": {
        "colab": {
          "base_uri": "https://localhost:8080/"
        },
        "id": "tklAX9HQhbU3",
        "outputId": "d27b538a-2ed9-4d48-fdb9-a233c1be333a"
      },
      "execution_count": 22,
      "outputs": [
        {
          "output_type": "stream",
          "name": "stdout",
          "text": [
            "1\n",
            "2\n",
            "3\n"
          ]
        }
      ]
    },
    {
      "cell_type": "code",
      "source": [
        "d = {'foo': 1, 'bar': 2, 'baz': 3}\n",
        "d.items()\n",
        "\n",
        "\n",
        "for i, j in [(1, 2), (3, 4), (5, 6)]:\n",
        "  print(i, j)\n",
        "  \n",
        "\n",
        "\n"
      ],
      "metadata": {
        "colab": {
          "base_uri": "https://localhost:8080/"
        },
        "id": "7QgWZNCwhtc2",
        "outputId": "47b520a3-fb4f-4ec6-a625-02337ab73db8"
      },
      "execution_count": 27,
      "outputs": [
        {
          "output_type": "stream",
          "name": "stdout",
          "text": [
            "1 2\n",
            "3 4\n",
            "5 6\n"
          ]
        }
      ]
    },
    {
      "cell_type": "code",
      "source": [
        "for k, v in d.items():\n",
        "  print('k =', k, ', v =', v)\n",
        "\n"
      ],
      "metadata": {
        "colab": {
          "base_uri": "https://localhost:8080/"
        },
        "id": "clSZcnRqiese",
        "outputId": "03f14bcf-94da-4f35-e2d5-1f5d60eb393c"
      },
      "execution_count": 28,
      "outputs": [
        {
          "output_type": "stream",
          "name": "stdout",
          "text": [
            "k = foo , v = 1\n",
            "k = bar , v = 2\n",
            "k = baz , v = 3\n"
          ]
        }
      ]
    },
    {
      "cell_type": "markdown",
      "source": [
        "# reference webpage\n",
        "# https://treyhunner.com/2016/04/how-to-loop-with-indexes-in-python/\n",
        "# https://www.dataquest.io/blog/python-for-loop-tutorial/\n",
        "# https://realpython.com/python-for-loop/"
      ],
      "metadata": {
        "id": "ZZn06EVTR6dl"
      }
    },
    {
      "cell_type": "code",
      "source": [
        ""
      ],
      "metadata": {
        "id": "YWm5s03Tflus"
      },
      "execution_count": null,
      "outputs": []
    },
    {
      "cell_type": "code",
      "source": [
        ""
      ],
      "metadata": {
        "id": "IkAi_fzxfmq0"
      },
      "execution_count": null,
      "outputs": []
    },
    {
      "cell_type": "code",
      "source": [
        ""
      ],
      "metadata": {
        "id": "lgbobF5ELImw"
      },
      "execution_count": null,
      "outputs": []
    }
  ]
}