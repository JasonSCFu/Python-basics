{
  "nbformat": 4,
  "nbformat_minor": 0,
  "metadata": {
    "colab": {
      "name": "Python Class example.ipynb",
      "provenance": []
    },
    "kernelspec": {
      "name": "python3",
      "display_name": "Python 3"
    },
    "language_info": {
      "name": "python"
    }
  },
  "cells": [
    {
      "cell_type": "markdown",
      "source": [
        "This notebook is to show some basics of python class object.\n",
        "\n",
        "A class is a blueprint for how something should be defined. It doesnt actually contain any data. \n",
        "\n",
        "\n"
      ],
      "metadata": {
        "id": "I0tAlbPn3VI7"
      }
    },
    {
      "cell_type": "code",
      "execution_count": 4,
      "metadata": {
        "colab": {
          "base_uri": "https://localhost:8080/"
        },
        "id": "O68Z_O4a1O-x",
        "outputId": "a67445ad-2250-48ca-f06a-0b4388702314"
      },
      "outputs": [
        {
          "output_type": "stream",
          "name": "stdout",
          "text": [
            "Hello my name is Jason\n",
            "Jason\n"
          ]
        }
      ],
      "source": [
        "# __init__ is a reserved method for classes. It is used to create constructors.\n",
        "# A constructor is a special method that is automatically called when the object is created\n",
        "# for the class. This method is mostly used to define variables inside the class.\n",
        "# Variables that are defined inside the constructor are called instance attributes.\n",
        "# Attributes created in __init__() are called instance attributes.\n",
        "\n",
        "class Person:\n",
        "  def __init__(self, name, age):  # this is the instance attribute\n",
        "    self.name = name\n",
        "    self.age = age\n",
        " \n",
        "  def myfunc(self):   # this is the instance method\n",
        "    print(\"Hello my name is \" + self.name)\n",
        "\n",
        "p1 = Person(\"Jason\", 36)\n",
        "p1.myfunc()\n",
        "print(p1.name)"
      ]
    },
    {
      "cell_type": "code",
      "source": [
        "# list is an object, __getitem__ is a method, the last three lines are equivalent\n",
        "stuff = list()\n",
        "stuff.append('python')\n",
        "stuff.append('chuck')\n",
        "stuff.sort()\n",
        "print(stuff[0])\n",
        "print(stuff.__getitem__(0))\n",
        "print(list.__getitem__(stuff,0))"
      ],
      "metadata": {
        "colab": {
          "base_uri": "https://localhost:8080/"
        },
        "id": "uIY3ZvpG1mvH",
        "outputId": "8cd7f4cc-b2aa-4bd6-9381-ad28912a66e0"
      },
      "execution_count": 6,
      "outputs": [
        {
          "output_type": "stream",
          "name": "stdout",
          "text": [
            "chuck\n",
            "chuck\n",
            "chuck\n"
          ]
        }
      ]
    },
    {
      "cell_type": "code",
      "source": [
        "print(dir(stuff))"
      ],
      "metadata": {
        "colab": {
          "base_uri": "https://localhost:8080/"
        },
        "id": "c0DAXnew6981",
        "outputId": "4d8e7f87-e702-4372-c824-bde15535dac5"
      },
      "execution_count": 7,
      "outputs": [
        {
          "output_type": "stream",
          "name": "stdout",
          "text": [
            "['__add__', '__class__', '__contains__', '__delattr__', '__delitem__', '__dir__', '__doc__', '__eq__', '__format__', '__ge__', '__getattribute__', '__getitem__', '__gt__', '__hash__', '__iadd__', '__imul__', '__init__', '__init_subclass__', '__iter__', '__le__', '__len__', '__lt__', '__mul__', '__ne__', '__new__', '__reduce__', '__reduce_ex__', '__repr__', '__reversed__', '__rmul__', '__setattr__', '__setitem__', '__sizeof__', '__str__', '__subclasshook__', 'append', 'clear', 'copy', 'count', 'extend', 'index', 'insert', 'pop', 'remove', 'reverse', 'sort']\n"
          ]
        }
      ]
    },
    {
      "cell_type": "code",
      "source": [
        "# The class keyword doesnot create an object, it defines a template for data and code\n",
        "# The class is like a cookie cutter and the objects created using class are the cookie\n",
        "\n",
        "class PartyAnimal:\n",
        "  x = 0  # attribute\n",
        "  def party(self):  # the funcion is a method\n",
        "    self.x = self.x + 1\n",
        "    print(\"so far\", self.x)\n",
        "\n",
        "an = PartyAnimal() # to construct an object of the class PartyAnimal. It assigns to variable an\n",
        "an.party()\n",
        "an.party()\n",
        "an.party()\n",
        "PartyAnimal.party(an) # this is equivalent to an.party()"
      ],
      "metadata": {
        "colab": {
          "base_uri": "https://localhost:8080/"
        },
        "id": "LvGhokxC96sZ",
        "outputId": "9e52be44-6c9b-4157-b630-2c21a727c876"
      },
      "execution_count": 10,
      "outputs": [
        {
          "output_type": "stream",
          "name": "stdout",
          "text": [
            "so far 1\n",
            "so far 2\n",
            "so far 3\n",
            "so far 4\n"
          ]
        }
      ]
    },
    {
      "cell_type": "code",
      "source": [
        "an = PartyAnimal()\n",
        "print(type(an))\n",
        "print(dir(an))\n",
        "print(type(an.x))\n",
        "print(type(an.party))"
      ],
      "metadata": {
        "colab": {
          "base_uri": "https://localhost:8080/"
        },
        "id": "XSvDQVY_-Uuu",
        "outputId": "09bf2108-988b-4a79-fcd3-4d4ae9148a8a"
      },
      "execution_count": 11,
      "outputs": [
        {
          "output_type": "stream",
          "name": "stdout",
          "text": [
            "<class '__main__.PartyAnimal'>\n",
            "['__class__', '__delattr__', '__dict__', '__dir__', '__doc__', '__eq__', '__format__', '__ge__', '__getattribute__', '__gt__', '__hash__', '__init__', '__init_subclass__', '__le__', '__lt__', '__module__', '__ne__', '__new__', '__reduce__', '__reduce_ex__', '__repr__', '__setattr__', '__sizeof__', '__str__', '__subclasshook__', '__weakref__', 'party', 'x']\n",
            "<class 'int'>\n",
            "<class 'method'>\n"
          ]
        }
      ]
    },
    {
      "cell_type": "code",
      "source": [
        "class PartyAnimal:\n",
        "  x = 0  \n",
        "  def __init__(self):\n",
        "    print(\"i am constructed\")\n",
        "\n",
        "  def party(self):\n",
        "    self.x = self.x +1\n",
        "    print(\"so far\", self.x)\n",
        "\n",
        "  def __del__(self):\n",
        "    print(\"i am destructted\", self.x)\n",
        "\n",
        "an = PartyAnimal()\n",
        "an.party()\n",
        "an.party()\n",
        "an = 42\n",
        "print(\"an contains\", an)"
      ],
      "metadata": {
        "colab": {
          "base_uri": "https://localhost:8080/"
        },
        "id": "Z-1yk3IDc-h_",
        "outputId": "b55d59aa-6931-4eba-cb02-de84e0882afa"
      },
      "execution_count": 15,
      "outputs": [
        {
          "output_type": "stream",
          "name": "stdout",
          "text": [
            "i am constructed\n",
            "so far 1\n",
            "so far 2\n",
            "i am destructted 2\n",
            "an contains 42\n"
          ]
        }
      ]
    },
    {
      "cell_type": "code",
      "source": [
        "class PartyAnimal:\n",
        "  x = 0\n",
        "  name = \"\"\n",
        "  def __init__(self, nam):\n",
        "    self.name = nam\n",
        "    print(self.name, \"constructed\")\n",
        "\n",
        "  def party(self):\n",
        "    self.x = self.x + 1\n",
        "    print(self.name, \"party count\", self.x)\n",
        "\n",
        "s = PartyAnimal(\"Sally\")\n",
        "j = PartyAnimal(\"Jim\")\n",
        "s.party()\n",
        "j.party()\n",
        "s.party()"
      ],
      "metadata": {
        "colab": {
          "base_uri": "https://localhost:8080/"
        },
        "id": "wqGY4Hmfd729",
        "outputId": "2a6ba801-bb16-4dcb-bc13-ecc262198350"
      },
      "execution_count": 17,
      "outputs": [
        {
          "output_type": "stream",
          "name": "stdout",
          "text": [
            "Sally constructed\n",
            "Jim constructed\n",
            "Sally party count 1\n",
            "Jim party count 1\n",
            "Sally party count 2\n"
          ]
        }
      ]
    },
    {
      "cell_type": "code",
      "source": [
        "# use inheritance\n",
        "\n",
        "class Employee:\n",
        "  def __init__(self, name, age, exp, salary):\n",
        "    self.name = name\n",
        "    self.age = age\n",
        "    self.exp = exp\n",
        "    self.salary = salary\n",
        "\n",
        "class Developers(Employee): # Employee is parent class\n",
        "  def __init__(self, name, age, exp, salary, level): \n",
        "    super().__init__(name, age, exp, salary)   # super() method helps a child class to access the members of the parent class\n",
        "    self.level = level\n",
        "\n"
      ],
      "metadata": {
        "id": "Hc9GcSyXf0T1"
      },
      "execution_count": 20,
      "outputs": []
    },
    {
      "cell_type": "code",
      "source": [
        "# __add__ and __str__ method\n",
        "class student:\n",
        "  def __init__(self, fname, lname):\n",
        "    self.fname = fname\n",
        "    self.lname = lname\n",
        "  def __str__(self):\n",
        "    return f\"{self.fname} {self.lname}\"\n",
        "  def __add__(self, other_self):\n",
        "    return f\"{self.fname} {other_self.fname}\"\n",
        "\n",
        "entry1 = student(\"Kalr\", \"Johnson\")\n",
        "entry2 = student(\"David\", \"Scott\")\n",
        "print(entry1)\n",
        "print(entry2)\n",
        "print(entry1 + entry2)"
      ],
      "metadata": {
        "colab": {
          "base_uri": "https://localhost:8080/"
        },
        "id": "K4iGgrI-gycT",
        "outputId": "f566d9ed-daee-4296-be55-83e501f57682"
      },
      "execution_count": 21,
      "outputs": [
        {
          "output_type": "stream",
          "name": "stdout",
          "text": [
            "Kalr Johnson\n",
            "David Scott\n",
            "Kalr David\n"
          ]
        }
      ]
    },
    {
      "cell_type": "code",
      "source": [
        "# The Dog class specifies that a name and an age are necessary for defining a dog,\n",
        "# but it does not contain the name or age of any specific dog.\n",
        "# While the class is the blueprint, an instance is an object that is built from a class and contains\n",
        "# real data. An instance of the Dog class is not a blueprint anymore.\n",
        "# It is an actual dog with a name, like Miles, who's four years old.\n",
        "\n",
        "class Dog:\n",
        "  species = \"Canis familiaris\"\n",
        "  def __init__(self, name, age):\n",
        "    self.name = name\n",
        "    self.age = age\n",
        "\n",
        "  #instance method\n",
        "  def description(self):\n",
        "    return f\"{self.name} is {self.age} years old\"\n",
        "\n",
        "  #another instance method\n",
        "  def speak(self, sound):\n",
        "    return f\"{self.name} says {sound}\""
      ],
      "metadata": {
        "id": "qwA9LP9vjwn5"
      },
      "execution_count": 22,
      "outputs": []
    },
    {
      "cell_type": "code",
      "source": [
        "miles = Dog(\"miles\", 4)\n",
        "print(miles)"
      ],
      "metadata": {
        "colab": {
          "base_uri": "https://localhost:8080/"
        },
        "id": "eF36i-e8ySTf",
        "outputId": "dd9ec62b-e030-4581-e91e-b81e7b1d3eb5"
      },
      "execution_count": 23,
      "outputs": [
        {
          "output_type": "stream",
          "name": "stdout",
          "text": [
            "<__main__.Dog object at 0x7f2c14f78750>\n"
          ]
        }
      ]
    },
    {
      "cell_type": "code",
      "source": [
        "# replace description() with __str__()\n",
        "class Dog:\n",
        "  species = \"Canis familiaris\"\n",
        "  def __init__(self, name, age):\n",
        "    self.name = name\n",
        "    self.age = age\n",
        "\n",
        "  #instance method\n",
        "  def __str__(self):\n",
        "    return f\"{self.name} is {self.age} years old\"\n",
        "\n",
        "  #another instance method\n",
        "  def speak(self, sound):\n",
        "    return f\"{self.name} says {sound}\""
      ],
      "metadata": {
        "id": "zsN7hg8yycOH"
      },
      "execution_count": 24,
      "outputs": []
    },
    {
      "cell_type": "code",
      "source": [
        "miles = Dog(\"miles\", 4)\n",
        "print(miles)"
      ],
      "metadata": {
        "colab": {
          "base_uri": "https://localhost:8080/"
        },
        "id": "cHnkyJg7y9TR",
        "outputId": "15978632-2c83-4eb9-c637-51dd9bf1f93b"
      },
      "execution_count": 25,
      "outputs": [
        {
          "output_type": "stream",
          "name": "stdout",
          "text": [
            "miles is 4 years old\n"
          ]
        }
      ]
    },
    {
      "cell_type": "code",
      "source": [
        "# parent and child class\n",
        "class JackRussellTerrier(Dog):\n",
        "  pass\n",
        "\n",
        "class Dachshund(Dog):\n",
        "  pass\n",
        "\n",
        "class Bulldog(Dog):\n",
        "  pass"
      ],
      "metadata": {
        "id": "gOtgj9-yy_VX"
      },
      "execution_count": 26,
      "outputs": []
    },
    {
      "cell_type": "code",
      "source": [
        "miles = JackRussellTerrier('Miles',4)\n",
        "buddy = Dachshund(\"Buddy\", 9)\n",
        "jack = Bulldog(\"Jack\",3)\n",
        "jim = Bulldog(\"Jim\", 5)"
      ],
      "metadata": {
        "id": "2885kFVTzSGb"
      },
      "execution_count": 27,
      "outputs": []
    },
    {
      "cell_type": "code",
      "source": [
        "miles.species"
      ],
      "metadata": {
        "colab": {
          "base_uri": "https://localhost:8080/",
          "height": 35
        },
        "id": "umr1-sGUzgXf",
        "outputId": "05ba2697-64f7-4135-dc41-0989e4583798"
      },
      "execution_count": 28,
      "outputs": [
        {
          "output_type": "execute_result",
          "data": {
            "text/plain": [
              "'Canis familiaris'"
            ],
            "application/vnd.google.colaboratory.intrinsic+json": {
              "type": "string"
            }
          },
          "metadata": {},
          "execution_count": 28
        }
      ]
    },
    {
      "cell_type": "code",
      "source": [
        "buddy.name"
      ],
      "metadata": {
        "colab": {
          "base_uri": "https://localhost:8080/",
          "height": 35
        },
        "id": "QNLzEnDezj-7",
        "outputId": "c26c2935-0997-4241-ee8c-4a23b494bf31"
      },
      "execution_count": 29,
      "outputs": [
        {
          "output_type": "execute_result",
          "data": {
            "text/plain": [
              "'Buddy'"
            ],
            "application/vnd.google.colaboratory.intrinsic+json": {
              "type": "string"
            }
          },
          "metadata": {},
          "execution_count": 29
        }
      ]
    },
    {
      "cell_type": "code",
      "source": [
        "jim.speak(\"Woof\")"
      ],
      "metadata": {
        "colab": {
          "base_uri": "https://localhost:8080/",
          "height": 35
        },
        "id": "KDOfq4BAzlrD",
        "outputId": "7693f323-bf3b-47b5-cadf-4bb1e75c10ad"
      },
      "execution_count": 30,
      "outputs": [
        {
          "output_type": "execute_result",
          "data": {
            "text/plain": [
              "'Jim says Woof'"
            ],
            "application/vnd.google.colaboratory.intrinsic+json": {
              "type": "string"
            }
          },
          "metadata": {},
          "execution_count": 30
        }
      ]
    },
    {
      "cell_type": "code",
      "source": [
        "class JackRussellTerrier(Dog):\n",
        "  def speak(self, sound = \"Arf\"):\n",
        "    return f\"{self.name} says {sound}\""
      ],
      "metadata": {
        "id": "JP8dCbZDzpDJ"
      },
      "execution_count": 31,
      "outputs": []
    },
    {
      "cell_type": "code",
      "source": [
        "miles = JackRussellTerrier(\"Miles\",4)"
      ],
      "metadata": {
        "id": "oLVvJHhV05Gz"
      },
      "execution_count": 32,
      "outputs": []
    },
    {
      "cell_type": "code",
      "source": [
        "miles.speak()"
      ],
      "metadata": {
        "colab": {
          "base_uri": "https://localhost:8080/",
          "height": 35
        },
        "id": "_6kh-5iQ1B2P",
        "outputId": "a014a2f3-5af6-4514-e1be-ab292ea09c36"
      },
      "execution_count": 33,
      "outputs": [
        {
          "output_type": "execute_result",
          "data": {
            "text/plain": [
              "'Miles says Arf'"
            ],
            "application/vnd.google.colaboratory.intrinsic+json": {
              "type": "string"
            }
          },
          "metadata": {},
          "execution_count": 33
        }
      ]
    },
    {
      "cell_type": "code",
      "source": [
        "miles.speak(\"Grrr\")"
      ],
      "metadata": {
        "colab": {
          "base_uri": "https://localhost:8080/",
          "height": 35
        },
        "id": "dZK847Xp1DK4",
        "outputId": "56f09fb9-a7c7-4aa4-fe98-7d961f74d447"
      },
      "execution_count": 34,
      "outputs": [
        {
          "output_type": "execute_result",
          "data": {
            "text/plain": [
              "'Miles says Grrr'"
            ],
            "application/vnd.google.colaboratory.intrinsic+json": {
              "type": "string"
            }
          },
          "metadata": {},
          "execution_count": 34
        }
      ]
    },
    {
      "cell_type": "code",
      "source": [
        ""
      ],
      "metadata": {
        "id": "m9iqMroc1P8_"
      },
      "execution_count": null,
      "outputs": []
    }
  ]
}